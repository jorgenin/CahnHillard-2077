{
 "cells": [
  {
   "cell_type": "markdown",
   "metadata": {},
   "source": [
    "# Code for Cahn-Hilliard phase separation with mechanical coupling."
   ]
  },
  {
   "cell_type": "markdown",
   "metadata": {},
   "source": [
    "\n",
    "## 2D phase separation study.\n"
   ]
  },
  {
   "cell_type": "markdown",
   "metadata": {},
   "source": [
    "\n",
    "\n",
    "Degrees of freedom: \n",
    "  - scalar chemical potential: we use normalized  mu = mu/RT \n",
    "  - species concentration:  we use normalized  c= Omega*cmat \n",
    "  \n",
    "### Units:\n",
    "- Length: um\n",
    "- Mass: kg\n",
    "- Time: s\n",
    "- Amount of substance: pmol\n",
    "- Temperature: K\n",
    "- Mass density: kg/um^3\n",
    "- Force: uN\n",
    "- Stress: MPa\n",
    "- Energy: pJ\n",
    "- Species concentration: pmol/um^3\n",
    "- Chemical potential: pJ/pmol\n",
    "- Molar volume: um^3/pmol\n",
    "- Species diffusivity: um^2/s\n",
    "- Boltzmann Constant: 1.38E-11 pJ/K\n",
    "- Gas constant: 8.314  pJ/(pmol K)\n",
    "\n",
    "### By\n",
    "  Eric Stewart      and      Lallit Anand\n",
    "ericstew@mit.edu            anand@mit.edu\n",
    "\n",
    "October 2023\n",
    "\n",
    "Modified for FenicsX by Jorge Nin\n",
    "jorgenin@mit.edu"
   ]
  },
  {
   "cell_type": "code",
   "execution_count": 1,
   "metadata": {
    "ExecuteTime": {
     "end_time": "2023-11-01T18:22:45.428046Z",
     "start_time": "2023-11-01T18:22:44.840593Z"
    }
   },
   "outputs": [],
   "source": [
    "import numpy as np\n",
    "\n",
    "\n",
    "from mpi4py import MPI\n",
    "from petsc4py import PETSc\n",
    "\n",
    "from dolfinx import fem, mesh, io, plot, log, default_scalar_type\n",
    "from dolfinx.fem import Constant, dirichletbc, Function, FunctionSpace, Expression\n",
    "from dolfinx.fem.petsc import NonlinearProblem\n",
    "from dolfinx.nls.petsc import NewtonSolver\n",
    "from dolfinx.io import VTXWriter\n",
    "\n",
    "import ufl\n",
    "from ufl import (\n",
    "    TestFunction,\n",
    "    TrialFunction,\n",
    "    Identity,\n",
    "    grad,\n",
    "    det,\n",
    "    div,\n",
    "    dev,\n",
    "    inv,\n",
    "    tr,\n",
    "    sqrt,\n",
    "    conditional,\n",
    "    gt,\n",
    "    dx,\n",
    "    inner,\n",
    "    derivative,\n",
    "    dot,\n",
    "    ln,\n",
    "    split,\n",
    "    tanh,\n",
    "    as_tensor,\n",
    "    as_vector,\n",
    "    ge\n",
    ")\n",
    "\n",
    "from hilliard_models import Cahn_Hillard_Plane_Strain\n",
    "from datetime import datetime\n",
    "from dolfinx.plot import vtk_mesh\n",
    "\n",
    "import pyvista\n",
    "\n",
    "pyvista.set_jupyter_backend(\"client\")\n",
    "## Define temporal parameters\n",
    "import random"
   ]
  },
  {
   "cell_type": "markdown",
   "metadata": {},
   "source": [
    "# DEFINE GEOMETRY"
   ]
  },
  {
   "cell_type": "code",
   "execution_count": 2,
   "metadata": {
    "ExecuteTime": {
     "end_time": "2023-11-01T18:16:10.486138Z",
     "start_time": "2023-11-01T18:16:10.467687Z"
    }
   },
   "outputs": [],
   "source": [
    "problemName = \"Canh Hillard Mechanical\"\n",
    "\n",
    "# Square edge length\n",
    "L0 = 0.8  # 800 nm box, after Di Leo et al. (2014)\n",
    "\n",
    "# Number of elements along each side\n",
    "N = 30\n",
    "\n",
    "# Create square mesh\n",
    "domain = mesh.create_rectangle(MPI.COMM_WORLD, [(0, 0), (L0, L0)], [N, N])"
   ]
  },
  {
   "cell_type": "markdown",
   "metadata": {},
   "source": [
    "## Visualize the geometry"
   ]
  },
  {
   "cell_type": "code",
   "execution_count": 3,
   "metadata": {
    "ExecuteTime": {
     "end_time": "2023-11-01T18:16:10.567443Z",
     "start_time": "2023-11-01T18:16:10.492865Z"
    }
   },
   "outputs": [
    {
     "data": {
      "application/vnd.jupyter.widget-view+json": {
       "model_id": "870209ab53664f5a8ec4e132ba50c59f",
       "version_major": 2,
       "version_minor": 0
      },
      "text/plain": [
       "Widget(value=\"<iframe src='http://localhost:53789/index.html?ui=P_0x2a2c31190_0&reconnect=auto' style='width: …"
      ]
     },
     "metadata": {},
     "output_type": "display_data"
    }
   ],
   "source": [
    "\n",
    "plotter = pyvista.Plotter()\n",
    "vtkdata = vtk_mesh(domain, domain.topology.dim)\n",
    "grid = pyvista.UnstructuredGrid(*vtkdata)\n",
    "actor = plotter.add_mesh(grid, show_edges=True)\n",
    "plotter.show()\n",
    "plotter.close()"
   ]
  },
  {
   "cell_type": "markdown",
   "metadata": {},
   "source": [
    "# Periodicity"
   ]
  },
  {
   "cell_type": "code",
   "execution_count": 4,
   "metadata": {
    "ExecuteTime": {
     "end_time": "2023-11-01T18:16:10.618698Z",
     "start_time": "2023-11-01T18:16:10.567538Z"
    }
   },
   "outputs": [],
   "source": [
    "def inside(self, x, on_boundary):\n",
    "    # return True if on left or bottom boundary AND NOT\n",
    "    # on one of the two corners (0, L0) and (L0, 0)\n",
    "    return bool(\n",
    "        (np.isclose(x[0], 0) or np.isclose(x[1], 0))\n",
    "        and (\n",
    "            not (\n",
    "                (np.isclose(x[0], 0) and np.isclose(x[1], L0))\n",
    "                or (np.isclose(x[0], L0) and np.isclose(x[1], 0))\n",
    "            )\n",
    "        )\n",
    "        and on_boundary\n",
    "    )\n",
    "\n",
    "\n",
    "def map(self, x, y):\n",
    "    if np.isclose(x[0], L0) and np.isclose(x[1], L0):\n",
    "        y[0] = x[0] - L0\n",
    "        y[1] = x[1] - L0\n",
    "    elif np.isclose(x[0], L0):\n",
    "        y[0] = x[0] - L0\n",
    "        y[1] = x[1]\n",
    "    else:  # np.isclose(x[1], L0)\n",
    "        y[0] = x[0]\n",
    "        y[1] = x[1] - L0"
   ]
  },
  {
   "cell_type": "markdown",
   "metadata": {},
   "source": [
    "# Simulation Time Control"
   ]
  },
  {
   "cell_type": "code",
   "execution_count": 5,
   "metadata": {
    "ExecuteTime": {
     "end_time": "2023-11-01T18:16:10.619189Z",
     "start_time": "2023-11-01T18:16:10.576017Z"
    }
   },
   "outputs": [],
   "source": [
    "t = 0.0  # initialization of time\n",
    "Ttot = 4  # total simulation time\n",
    "dt = 0.01  # Initial time step size, here we will use adaptive time-stepping"
   ]
  },
  {
   "cell_type": "markdown",
   "metadata": {},
   "source": [
    "# Create Problem"
   ]
  },
  {
   "cell_type": "code",
   "execution_count": 6,
   "metadata": {},
   "outputs": [],
   "source": [
    "dk = Constant(domain,dt)\n",
    "\n",
    "hillard_problem = Cahn_Hillard_Plane_Strain(domain)\n",
    "hillard_problem.Kinematics()\n",
    "hillard_problem.WeakForms(dk)"
   ]
  },
  {
   "cell_type": "markdown",
   "metadata": {},
   "source": [
    "# Setup Output Files"
   ]
  },
  {
   "cell_type": "code",
   "execution_count": 7,
   "metadata": {
    "ExecuteTime": {
     "end_time": "2023-11-01T18:16:10.801934Z",
     "start_time": "2023-11-01T18:16:10.747564Z"
    }
   },
   "outputs": [],
   "source": [
    "U1 = ufl.VectorElement(\"Lagrange\", domain.ufl_cell(), 1)\n",
    "V2 = fem.FunctionSpace(domain, U1)#Vector function space\n",
    "V1 = fem.FunctionSpace(domain, hillard_problem.P1)#Scalar function space\n",
    "\n",
    "mu_vis = Function(V1)\n",
    "mu_vis.name = \"mu\"\n",
    "mu_expr = Expression(hillard_problem.mu,V1.element.interpolation_points())\n",
    "\n",
    "c_vis = Function(V1)\n",
    "c_vis.name = \"c\"\n",
    "c_expr = Expression(hillard_problem.c,V1.element.interpolation_points())\n",
    "\n",
    "\n",
    "\n",
    "def interp_and_save(t, file):\n",
    "\n",
    "    mu_vis.interpolate(mu_expr)\n",
    "    c_vis.interpolate(c_expr)\n",
    "\n",
    "    file.write(t)\n"
   ]
  },
  {
   "cell_type": "markdown",
   "metadata": {},
   "source": [
    "# Boundary Conditions"
   ]
  },
  {
   "cell_type": "code",
   "execution_count": 8,
   "metadata": {},
   "outputs": [],
   "source": [
    "#Locate the boundary\n",
    "def bottom(x):\n",
    "    return np.isclose(x[1], 0)\n",
    "\n",
    "\n",
    "def right(x):\n",
    "    return np.isclose(x[0], 0)\n",
    "\n",
    "\n",
    "fdim = domain.topology.dim - 1\n",
    "left_facets = mesh.locate_entities_boundary(domain, fdim, right)\n",
    "bottom_facets = mesh.locate_entities_boundary(domain, fdim, bottom)\n",
    "\n",
    "marked_facets = np.hstack([bottom_facets, left_facets])\n",
    "marked_values = np.hstack([np.full_like(bottom_facets, 1), np.full_like(left_facets, 2)])\n",
    "sorted_facets = np.argsort(marked_facets)\n",
    "\n",
    "facet_tag = mesh.meshtags(domain, fdim, marked_facets[sorted_facets], marked_values[sorted_facets])"
   ]
  },
  {
   "cell_type": "code",
   "execution_count": 9,
   "metadata": {
    "ExecuteTime": {
     "end_time": "2023-11-01T18:16:10.802189Z",
     "start_time": "2023-11-01T18:16:10.767367Z"
    }
   },
   "outputs": [],
   "source": [
    "# Just fix the sides to make sure they don't move\n",
    "\n",
    "u_bc = np.array((0), dtype=default_scalar_type)\n",
    "\n",
    "\n",
    "\n",
    "\n",
    "left_dofs = fem.locate_dofs_topological(hillard_problem.ME.sub(0).sub(0), facet_tag.dim, facet_tag.find(2)) #we don't want it to move in the x direction\n",
    "bottom_dofs = fem.locate_dofs_topological(hillard_problem.ME.sub(0).sub(1), facet_tag.dim, facet_tag.find(1)) #we don't want it to move in the y direction\n",
    "bcs = [fem.dirichletbc(u_bc, left_dofs, hillard_problem.ME.sub(0).sub(0)),\n",
    "       fem.dirichletbc(u_bc, bottom_dofs, hillard_problem.ME.sub(0).sub(1))]\n"
   ]
  },
  {
   "cell_type": "markdown",
   "metadata": {},
   "source": [
    "# Setup Nonlinear Problem"
   ]
  },
  {
   "cell_type": "code",
   "execution_count": 10,
   "metadata": {
    "ExecuteTime": {
     "end_time": "2023-11-01T18:17:00.656852Z",
     "start_time": "2023-11-01T18:16:10.777106Z"
    }
   },
   "outputs": [
    {
     "name": "stdout",
     "output_type": "stream",
     "text": [
      "------------------------------------\n",
      "Simulation Start\n",
      "------------------------------------\n"
     ]
    },
    {
     "ename": "NameError",
     "evalue": "name 'vtk' is not defined",
     "output_type": "error",
     "traceback": [
      "\u001b[0;31m---------------------------------------------------------------------------\u001b[0m",
      "\u001b[0;31mNameError\u001b[0m                                 Traceback (most recent call last)",
      "\u001b[1;32m/Users/jorgenin/Documents/Python/Research/2.077/Cahn-Hilliard/Cahn_Hillard_Mechanical.ipynb Cell 21\u001b[0m line \u001b[0;36m3\n\u001b[1;32m     <a href='vscode-notebook-cell:/Users/jorgenin/Documents/Python/Research/2.077/Cahn-Hilliard/Cahn_Hillard_Mechanical.ipynb#X26sZmlsZQ%3D%3D?line=30'>31</a>\u001b[0m \u001b[39m#if os.path.exists(\"results/\"+problemName+\".bp\"):\u001b[39;00m\n\u001b[1;32m     <a href='vscode-notebook-cell:/Users/jorgenin/Documents/Python/Research/2.077/Cahn-Hilliard/Cahn_Hillard_Mechanical.ipynb#X26sZmlsZQ%3D%3D?line=31'>32</a>\u001b[0m \u001b[39m#    os.remove(\"results/\"+problemName+\".xdmf\")\u001b[39;00m\n\u001b[1;32m     <a href='vscode-notebook-cell:/Users/jorgenin/Documents/Python/Research/2.077/Cahn-Hilliard/Cahn_Hillard_Mechanical.ipynb#X26sZmlsZQ%3D%3D?line=32'>33</a>\u001b[0m \u001b[39m#    os.remove(\"results/\"+problemName+\".h5\")\u001b[39;00m\n\u001b[1;32m     <a href='vscode-notebook-cell:/Users/jorgenin/Documents/Python/Research/2.077/Cahn-Hilliard/Cahn_Hillard_Mechanical.ipynb#X26sZmlsZQ%3D%3D?line=33'>34</a>\u001b[0m \n\u001b[1;32m     <a href='vscode-notebook-cell:/Users/jorgenin/Documents/Python/Research/2.077/Cahn-Hilliard/Cahn_Hillard_Mechanical.ipynb#X26sZmlsZQ%3D%3D?line=34'>35</a>\u001b[0m \u001b[39m#vtk.write_mesh(domain)\u001b[39;00m\n\u001b[1;32m     <a href='vscode-notebook-cell:/Users/jorgenin/Documents/Python/Research/2.077/Cahn-Hilliard/Cahn_Hillard_Mechanical.ipynb#X26sZmlsZQ%3D%3D?line=35'>36</a>\u001b[0m t \u001b[39m=\u001b[39m \u001b[39m0.0\u001b[39m\n\u001b[0;32m---> <a href='vscode-notebook-cell:/Users/jorgenin/Documents/Python/Research/2.077/Cahn-Hilliard/Cahn_Hillard_Mechanical.ipynb#X26sZmlsZQ%3D%3D?line=37'>38</a>\u001b[0m interp_and_save(t, vtk)\n\u001b[1;32m     <a href='vscode-notebook-cell:/Users/jorgenin/Documents/Python/Research/2.077/Cahn-Hilliard/Cahn_Hillard_Mechanical.ipynb#X26sZmlsZQ%3D%3D?line=38'>39</a>\u001b[0m ii \u001b[39m=\u001b[39m \u001b[39m0\u001b[39m\n\u001b[1;32m     <a href='vscode-notebook-cell:/Users/jorgenin/Documents/Python/Research/2.077/Cahn-Hilliard/Cahn_Hillard_Mechanical.ipynb#X26sZmlsZQ%3D%3D?line=39'>40</a>\u001b[0m bisection_count \u001b[39m=\u001b[39m \u001b[39m0\u001b[39m\n",
      "\u001b[0;31mNameError\u001b[0m: name 'vtk' is not defined"
     ]
    }
   ],
   "source": [
    "import os\n",
    "step = \"Swell\"\n",
    "jit_options ={\"cffi_extra_compile_args\":[\"-O3\",\"-ffast-math\"]}\n",
    "\n",
    "problem = NonlinearProblem(hillard_problem.Res,hillard_problem.w, bcs, hillard_problem.a)\n",
    "\n",
    "\n",
    "solver = NewtonSolver(MPI.COMM_WORLD, problem)\n",
    "solver.convergence_criterion = \"incremental\"\n",
    "solver.rtol = 1e-8\n",
    "solver.atol = 1e-8\n",
    "solver.max_it = 50\n",
    "solver.report = True\n",
    "solver.error_on_nonconvergence = False\n",
    "\n",
    "ksp = solver.krylov_solver\n",
    "opts = PETSc.Options()\n",
    "option_prefix = ksp.getOptionsPrefix()\n",
    "opts[f\"{option_prefix}ksp_max_it\"] = 30\n",
    "opts[f\"{option_prefix}ksp_type\"] = \"cg\"\n",
    "#opts[f\"{option_prefix}pc_type\"] = \"ksp\"\n",
    "ksp.setFromOptions()\n",
    "\n",
    "startTime = datetime.now()\n",
    "print(\"------------------------------------\")\n",
    "print(\"Simulation Start\")\n",
    "print(\"------------------------------------\")\n",
    "\n",
    "step = \"Evolve\"\n",
    "\n",
    "#if os.path.exists(\"results/\"+problemName+\".bp\"):\n",
    "#    os.remove(\"results/\"+problemName+\".xdmf\")\n",
    "#    os.remove(\"results/\"+problemName+\".h5\")\n",
    "\n",
    "#vtk.write_mesh(domain)\n",
    "t = 0.0\n",
    "\n",
    "interp_and_save(t, vtk)\n",
    "ii = 0\n",
    "bisection_count = 0\n",
    "while t < Ttot:\n",
    "    # increment time\n",
    "    t += float(dk) \n",
    "    # increment counter\n",
    "    ii +=1\n",
    "    \n",
    "\n",
    "    # Solve the problem\n",
    "    \n",
    "    (iter, converged) = solver.solve(hillard_problem.w)\n",
    "    \n",
    "    if converged:\n",
    "        hillard_problem.w.x.scatter_forward()\n",
    "        \n",
    "        \n",
    "        \n",
    "        hillard_problem.w_old.x.array[:] = hillard_problem.w.x.array\n",
    "        \n",
    "        interp_and_save(t, vtk)\n",
    "        if ii % 1 == 0:\n",
    "            now = datetime.now()\n",
    "            current_time = now.strftime(\"%H:%M:%S\")\n",
    "            print(\"Step: {} |   Increment: {} | Iterations: {}\".format(step, ii, iter))\n",
    "            print(\"Simulation Time: {} s | dt: {} s\".format(round(t, 2), round(dt, 3)))\n",
    "            print()\n",
    "        \n",
    "        if iter <= 2:\n",
    "            dt = 1.5 * dt\n",
    "            dk.value = dt\n",
    "        # If the newton solver takes 5 or more iterations,\n",
    "        # decrease the time step by a factor of 2:\n",
    "        elif iter >= 5:\n",
    "            dt = dt / 2\n",
    "            dk.value =dt\n",
    "\n",
    "        #Reset Biseciton Counter\n",
    "        bisection_count = 0\n",
    "        \n",
    "    else:\n",
    "     # Break the loop if solver fails too many times\n",
    "        bisection_count += 1\n",
    "        \n",
    "        if bisection_count > 5:\n",
    "            print(\"Error: Too many bisections\")\n",
    "            break\n",
    "        \n",
    "        print( \"Error Halfing Time Step\")\n",
    "        t = t - float(dk)\n",
    "        dt = dt / 2\n",
    "        dk.value = dt\n",
    "        print(f\"New Time Step: {dt}\")\n",
    "        hillard_problem.w.x.array[:] = hillard_problem.w_old.x.array\n",
    "        \n",
    "\n",
    "#End Analysis\n",
    "vtk.close()\n",
    "endTime = datetime.now()\n",
    "print(\"------------------------------------\")\n",
    "print(\"Simulation End\")\n",
    "print(\"------------------------------------\")\n",
    "print(\"Total Time: {}\".format(endTime - startTime))\n",
    "print(\"------------------------------------\")\n",
    "\n",
    "\n",
    "\n",
    "    \n",
    "    "
   ]
  }
 ],
 "metadata": {
  "kernelspec": {
   "display_name": ".venv",
   "language": "python",
   "name": "python3"
  },
  "language_info": {
   "codemirror_mode": {
    "name": "ipython",
    "version": 3
   },
   "file_extension": ".py",
   "mimetype": "text/x-python",
   "name": "python",
   "nbconvert_exporter": "python",
   "pygments_lexer": "ipython3",
   "version": "3.11.6"
  }
 },
 "nbformat": 4,
 "nbformat_minor": 2
}
