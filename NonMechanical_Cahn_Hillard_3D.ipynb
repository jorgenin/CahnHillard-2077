{
 "cells": [
  {
   "cell_type": "markdown",
   "metadata": {},
   "source": [
    "# Code for Cahn-Hilliard phase separation without mechanical coupling.\n",
    "\n",
    "## 2D phase separation study.\n",
    "\n",
    "\n",
    "Degrees of freedom: \n",
    "  - scalar chemical potential: we use normalized  mu = mu/RT \n",
    "  - species concentration:  we use normalized  c= Omega*cmat \n",
    "  \n",
    "### Units:\n",
    "- Length: um\n",
    "- Mass: kg\n",
    "- Time: s\n",
    "- Amount of substance: pmol\n",
    "- Temperature: K\n",
    "- Mass density: kg/um^3\n",
    "- Force: uN\n",
    "- Stress: MPa\n",
    "- Energy: pJ\n",
    "- Species concentration: pmol/um^3\n",
    "- Chemical potential: pJ/pmol\n",
    "- Molar volume: um^3/pmol\n",
    "- Species diffusivity: um^2/s\n",
    "- Boltzmann Constant: 1.38E-11 pJ/K\n",
    "- Gas constant: 8.314  pJ/(pmol K)\n",
    "\n",
    "### By\n",
    "  Eric Stewart      and      Lallit Anand\n",
    "ericstew@mit.edu            anand@mit.edu\n",
    "\n",
    "October 2023\n",
    "\n",
    "Modified for FenicsX by Jorge Nin\n",
    "jorgenin@mit.edu"
   ]
  },
  {
   "cell_type": "code",
   "execution_count": 1,
   "metadata": {
    "ExecuteTime": {
     "end_time": "2023-11-01T18:22:45.428046Z",
     "start_time": "2023-11-01T18:22:44.840593Z"
    }
   },
   "outputs": [],
   "source": [
    "import numpy as np\n",
    "\n",
    "\n",
    "from mpi4py import MPI\n",
    "from petsc4py import PETSc\n",
    "\n",
    "from dolfinx import fem, mesh, io, plot, log\n",
    "from dolfinx.fem import Constant, dirichletbc, Function, FunctionSpace, Expression\n",
    "from dolfinx.fem.petsc import NonlinearProblem\n",
    "from dolfinx.nls.petsc import NewtonSolver\n",
    "from dolfinx.io import VTXWriter\n",
    "import ufl\n",
    "from ufl import (\n",
    "    TestFunction,\n",
    "    TrialFunction,\n",
    "    Identity,\n",
    "    grad,\n",
    "    det,\n",
    "    div,\n",
    "    dev,\n",
    "    inv,\n",
    "    tr,\n",
    "    sqrt,\n",
    "    conditional,\n",
    "    gt,\n",
    "    dx,\n",
    "    inner,\n",
    "    derivative,\n",
    "    dot,\n",
    "    ln,\n",
    "    split,\n",
    "    tanh,\n",
    "    as_tensor,\n",
    "    as_vector,\n",
    "    ge\n",
    ")\n",
    "from datetime import datetime\n",
    "from dolfinx.plot import vtk_mesh\n",
    "from hilliard_models import Cahn_Hillard_3D_no_mech\n",
    "import pyvista\n",
    "\n",
    "pyvista.set_jupyter_backend(\"client\")\n",
    "## Define temporal parameters\n",
    "import random"
   ]
  },
  {
   "cell_type": "markdown",
   "metadata": {},
   "source": [
    "# DEFINE GEOMETRY"
   ]
  },
  {
   "cell_type": "code",
   "execution_count": 2,
   "metadata": {
    "ExecuteTime": {
     "end_time": "2023-11-01T18:16:10.486138Z",
     "start_time": "2023-11-01T18:16:10.467687Z"
    }
   },
   "outputs": [],
   "source": [
    "problemName = \"Canh Hillard 3D\"\n",
    "\n",
    "# Square edge length\n",
    "L0 = 0.8  # 800 nm box, after Di Leo et al. (2014)\n",
    "\n",
    "# Number of elements along each side\n",
    "N = 50\n",
    "\n",
    "# Create square mesh\n",
    "domain = mesh.create_box(MPI.COMM_WORLD, [(0, 0,0), (L0, L0,L0)], [N, N,N],cell_type=mesh.CellType.hexahedron)"
   ]
  },
  {
   "cell_type": "markdown",
   "metadata": {},
   "source": [
    "## Visualize the geometry"
   ]
  },
  {
   "cell_type": "code",
   "execution_count": 3,
   "metadata": {
    "ExecuteTime": {
     "end_time": "2023-11-01T18:16:10.567443Z",
     "start_time": "2023-11-01T18:16:10.492865Z"
    }
   },
   "outputs": [
    {
     "data": {
      "application/vnd.jupyter.widget-view+json": {
       "model_id": "48096bfa897b42f288392f17173c0942",
       "version_major": 2,
       "version_minor": 0
      },
      "text/plain": [
       "Widget(value=\"<iframe src='http://localhost:54378/index.html?ui=P_0x29ad82550_0&reconnect=auto' style='width: …"
      ]
     },
     "metadata": {},
     "output_type": "display_data"
    }
   ],
   "source": [
    "#sysctl -a|grep \"\\.shm\"\n",
    "\n",
    "plotter = pyvista.Plotter()\n",
    "vtkdata = vtk_mesh(domain, domain.topology.dim)\n",
    "grid = pyvista.UnstructuredGrid(*vtkdata)\n",
    "actor = plotter.add_mesh(grid, show_edges=True)\n",
    "plotter.show()\n",
    "plotter.close()"
   ]
  },
  {
   "cell_type": "markdown",
   "metadata": {},
   "source": [
    "# Simulation Time Control"
   ]
  },
  {
   "cell_type": "code",
   "execution_count": 4,
   "metadata": {
    "ExecuteTime": {
     "end_time": "2023-11-01T18:16:10.619189Z",
     "start_time": "2023-11-01T18:16:10.576017Z"
    }
   },
   "outputs": [],
   "source": [
    "t = 0.0  # initialization of time\n",
    "Ttot = 4  # total simulation time\n",
    "dt = 0.01  # Initial time step size, here we will use adaptive time-stepping"
   ]
  },
  {
   "cell_type": "code",
   "execution_count": 5,
   "metadata": {
    "ExecuteTime": {
     "end_time": "2023-11-01T18:16:10.705247Z",
     "start_time": "2023-11-01T18:16:10.615297Z"
    }
   },
   "outputs": [],
   "source": [
    "dk = Constant(domain,dt)\n",
    "\n",
    "hillard_problem = Cahn_Hillard_3D_no_mech(domain)\n",
    "hillard_problem.Kinematics()\n",
    "hillard_problem.WeakForms(dk)"
   ]
  },
  {
   "cell_type": "markdown",
   "metadata": {},
   "source": [
    "# Setup Output Files"
   ]
  },
  {
   "cell_type": "code",
   "execution_count": 6,
   "metadata": {
    "ExecuteTime": {
     "end_time": "2023-11-01T18:16:10.801934Z",
     "start_time": "2023-11-01T18:16:10.747564Z"
    }
   },
   "outputs": [],
   "source": [
    "U1 = ufl.VectorElement(\"Lagrange\", domain.ufl_cell(), 1)\n",
    "V2 = fem.FunctionSpace(domain, U1)#Vector function space\n",
    "V1 = fem.FunctionSpace(domain, hillard_problem.P1)#Scalar function space\n",
    "\n",
    "mu_vis = Function(V1)\n",
    "mu_vis.name = \"mu\"\n",
    "mu_expr = Expression(hillard_problem.mu,V1.element.interpolation_points())\n",
    "\n",
    "c_vis = Function(V1)\n",
    "c_vis.name = \"c\"\n",
    "c_expr = Expression(hillard_problem.c,V1.element.interpolation_points())\n",
    "\n",
    "vtk = VTXWriter(domain.comm,\"results/\"+problemName+\".bp\", [mu_vis,c_vis], engine=\"BP4\" )\n",
    "\n",
    "def interp_and_save(t, file):\n",
    "   \n",
    "    mu_vis.interpolate(mu_expr)\n",
    "    c_vis.interpolate(c_expr)\n",
    "\n",
    "    file.write(t)\n"
   ]
  },
  {
   "cell_type": "markdown",
   "metadata": {},
   "source": [
    "# Boundary Conditions"
   ]
  },
  {
   "cell_type": "code",
   "execution_count": 7,
   "metadata": {
    "ExecuteTime": {
     "end_time": "2023-11-01T18:16:10.802189Z",
     "start_time": "2023-11-01T18:16:10.767367Z"
    }
   },
   "outputs": [],
   "source": [
    "# Nothing! Just let the system evolve on its own.\n",
    "bcs = []"
   ]
  },
  {
   "cell_type": "markdown",
   "metadata": {},
   "source": [
    "# SETUP NONLINEAR PROBLEM"
   ]
  },
  {
   "cell_type": "code",
   "execution_count": 8,
   "metadata": {
    "ExecuteTime": {
     "end_time": "2023-11-01T18:17:00.656852Z",
     "start_time": "2023-11-01T18:16:10.777106Z"
    }
   },
   "outputs": [
    {
     "name": "stdout",
     "output_type": "stream",
     "text": [
      "------------------------------------\n",
      "Simulation Start\n",
      "------------------------------------\n",
      "Step: Evolve |   Increment: 1 | Iterations: 5\n",
      "Simulation Time: 0.01 s | dt: 0.01 s\n",
      "\n",
      "Step: Evolve |   Increment: 2 | Iterations: 2\n",
      "Simulation Time: 0.01 s | dt: 0.005 s\n",
      "\n",
      "Step: Evolve |   Increment: 3 | Iterations: 2\n",
      "Simulation Time: 0.02 s | dt: 0.007 s\n",
      "\n",
      "Step: Evolve |   Increment: 4 | Iterations: 2\n",
      "Simulation Time: 0.03 s | dt: 0.011 s\n",
      "\n",
      "Step: Evolve |   Increment: 5 | Iterations: 2\n",
      "Simulation Time: 0.05 s | dt: 0.017 s\n",
      "\n",
      "Step: Evolve |   Increment: 6 | Iterations: 2\n",
      "Simulation Time: 0.08 s | dt: 0.025 s\n",
      "\n",
      "Step: Evolve |   Increment: 7 | Iterations: 2\n",
      "Simulation Time: 0.11 s | dt: 0.038 s\n",
      "\n",
      "Step: Evolve |   Increment: 8 | Iterations: 2\n",
      "Simulation Time: 0.17 s | dt: 0.057 s\n",
      "\n",
      "Step: Evolve |   Increment: 9 | Iterations: 2\n",
      "Simulation Time: 0.26 s | dt: 0.085 s\n",
      "\n",
      "Step: Evolve |   Increment: 10 | Iterations: 2\n",
      "Simulation Time: 0.38 s | dt: 0.128 s\n",
      "\n",
      "Step: Evolve |   Increment: 11 | Iterations: 2\n",
      "Simulation Time: 0.58 s | dt: 0.192 s\n",
      "\n",
      "Step: Evolve |   Increment: 12 | Iterations: 2\n",
      "Simulation Time: 0.86 s | dt: 0.288 s\n",
      "\n",
      "Step: Evolve |   Increment: 13 | Iterations: 2\n",
      "Simulation Time: 1.3 s | dt: 0.432 s\n",
      "\n",
      "Step: Evolve |   Increment: 14 | Iterations: 2\n",
      "Simulation Time: 1.95 s | dt: 0.649 s\n",
      "\n",
      "Step: Evolve |   Increment: 15 | Iterations: 2\n",
      "Simulation Time: 2.92 s | dt: 0.973 s\n",
      "\n",
      "Step: Evolve |   Increment: 16 | Iterations: 2\n",
      "Simulation Time: 4.38 s | dt: 1.46 s\n",
      "\n",
      "------------------------------------\n",
      "Simulation End\n",
      "------------------------------------\n",
      "Total Time: 0:00:45.166368\n",
      "------------------------------------\n"
     ]
    }
   ],
   "source": [
    "import os\n",
    "step = \"Swell\"\n",
    "jit_options ={\"cffi_extra_compile_args\":[\"-O3\",\"-ffast-math\"]}\n",
    "\n",
    "problem = NonlinearProblem(hillard_problem.Res, hillard_problem.w, bcs, hillard_problem.a)\n",
    "\n",
    "\n",
    "solver = NewtonSolver(MPI.COMM_WORLD, problem)\n",
    "solver.convergence_criterion = \"incremental\"\n",
    "solver.rtol = 1e-8\n",
    "solver.atol = 1e-8\n",
    "solver.max_it = 50\n",
    "solver.report = True\n",
    "\n",
    "\n",
    "ksp = solver.krylov_solver\n",
    "opts = PETSc.Options()\n",
    "option_prefix = ksp.getOptionsPrefix()\n",
    "opts[f\"{option_prefix}ksp_max_it\"] = 30\n",
    "opts[f\"{option_prefix}ksp_type\"] = \"gmres\"\n",
    "opts[f\"{option_prefix}pc_type\"] = \"ksp\"\n",
    "ksp.setFromOptions()\n",
    "\n",
    "startTime = datetime.now()\n",
    "print(\"------------------------------------\")\n",
    "print(\"Simulation Start\")\n",
    "print(\"------------------------------------\")\n",
    "\n",
    "step = \"Evolve\"\n",
    "\n",
    "#if os.path.exists(\"results/\"+problemName+\".bp\"):\n",
    "#    os.remove(\"results/\"+problemName+\".xdmf\")\n",
    "#    os.remove(\"results/\"+problemName+\".h5\")\n",
    "\n",
    "#vtk.write_mesh(domain)\n",
    "t = 0.0\n",
    "\n",
    "interp_and_save(t, vtk)\n",
    "ii = 0\n",
    "bisection_count = 0\n",
    "lasttimestep = hillard_problem.w_old_2.x.array.copy()\n",
    "while t < Ttot:\n",
    "    # increment time\n",
    "    t += float(dk) \n",
    "    # increment counter\n",
    "    ii +=1\n",
    "    \n",
    "\n",
    "    # Solve the problem\n",
    "    try:\n",
    "        (iter, converged) = solver.solve(hillard_problem.w)\n",
    "        \n",
    "        hillard_problem.w.x.scatter_forward()\n",
    "        \n",
    "        \n",
    "        lasttimestep[:] = hillard_problem.w_old_2.x.array\n",
    "        hillard_problem.w_old_2.x.array[:] = hillard_problem.w_old.x.array\n",
    "        hillard_problem.w_old.x.array[:] = hillard_problem.w.x.array\n",
    "        \n",
    "        interp_and_save(t, vtk)\n",
    "        if ii % 1 == 0:\n",
    "            now = datetime.now()\n",
    "            current_time = now.strftime(\"%H:%M:%S\")\n",
    "            print(\"Step: {} |   Increment: {} | Iterations: {}\".format(step, ii, iter))\n",
    "            print(\"Simulation Time: {} s | dt: {} s\".format(round(t, 2), round(dt, 3)))\n",
    "            print()\n",
    "        \n",
    "        if iter <= 2:\n",
    "            dt = 1.5 * dt\n",
    "            dk.value = dt\n",
    "        # If the newton solver takes 5 or more iterations,\n",
    "        # decrease the time step by a factor of 2:\n",
    "        elif iter >= 5:\n",
    "            dt = dt / 2\n",
    "            dk.value =dt\n",
    "\n",
    "        #Reset Biseciton Counter\n",
    "        bisection_count = 0\n",
    "        \n",
    "    except: # Break the loop if solver fails\n",
    "        bisection_count += 1\n",
    "        \n",
    "        if bisection_count > 5:\n",
    "            print(\"Error: Too many bisections\")\n",
    "            break\n",
    "        \n",
    "        print( \"Error Halfing Time Step\")\n",
    "        t = t - float(dk)\n",
    "        dt = dt / 2\n",
    "        dk.value = dt\n",
    "        print(f\"New Time Step: {dt}\")\n",
    "        \n",
    "        hillard_problem.w.x.array[:] = hillard_problem.w_old.x.array\n",
    "        hillard_problem.w_old.x.array[:] = hillard_problem.w_old_2.x.array\n",
    "        hillard_problem.w_old_2.x.array[:] = lasttimestep\n",
    "        \n",
    "\n",
    "#End Analysis\n",
    "vtk.close()\n",
    "endTime = datetime.now()\n",
    "print(\"------------------------------------\")\n",
    "print(\"Simulation End\")\n",
    "print(\"------------------------------------\")\n",
    "print(\"Total Time: {}\".format(endTime - startTime))\n",
    "print(\"------------------------------------\")\n",
    "\n",
    "\n",
    "\n",
    "    \n",
    "    "
   ]
  },
  {
   "cell_type": "code",
   "execution_count": 17,
   "metadata": {},
   "outputs": [
    {
     "ename": "ValueError",
     "evalue": "cannot reshape array of size 1665674468 into shape (265302,265302)",
     "output_type": "error",
     "traceback": [
      "\u001b[0;31m---------------------------------------------------------------------------\u001b[0m",
      "\u001b[0;31mValueError\u001b[0m                                Traceback (most recent call last)",
      "\u001b[1;32m/Users/jorgenin/Documents/Python/Research/2.077/Cahn-Hilliard/NonMechanical_Cahn_Hillard_3D.ipynb Cell 16\u001b[0m line \u001b[0;36m2\n\u001b[1;32m      <a href='vscode-notebook-cell:/Users/jorgenin/Documents/Python/Research/2.077/Cahn-Hilliard/NonMechanical_Cahn_Hillard_3D.ipynb#X40sZmlsZQ%3D%3D?line=0'>1</a>\u001b[0m mat \u001b[39m=\u001b[39m solver\u001b[39m.\u001b[39mA\n\u001b[0;32m----> <a href='vscode-notebook-cell:/Users/jorgenin/Documents/Python/Research/2.077/Cahn-Hilliard/NonMechanical_Cahn_Hillard_3D.ipynb#X40sZmlsZQ%3D%3D?line=1'>2</a>\u001b[0m npmatrix\u001b[39m=\u001b[39m np\u001b[39m.\u001b[39marray(mat[:,:])\n",
      "File \u001b[0;32mpetsc4py/PETSc/Mat.pyx:415\u001b[0m, in \u001b[0;36mpetsc4py.PETSc.Mat.__getitem__\u001b[0;34m()\u001b[0m\n",
      "File \u001b[0;32mpetsc4py/PETSc/petscmat.pxi:1125\u001b[0m, in \u001b[0;36mpetsc4py.PETSc.mat_getitem\u001b[0;34m()\u001b[0m\n",
      "File \u001b[0;32mpetsc4py/PETSc/petscmat.pxi:1040\u001b[0m, in \u001b[0;36mpetsc4py.PETSc.matgetvalues\u001b[0;34m()\u001b[0m\n",
      "\u001b[0;31mValueError\u001b[0m: cannot reshape array of size 1665674468 into shape (265302,265302)"
     ]
    }
   ],
   "source": [
    "\n"
   ]
  },
  {
   "cell_type": "code",
   "execution_count": 16,
   "metadata": {},
   "outputs": [
    {
     "data": {
      "text/plain": [
       "array(<petsc4py.PETSc.Mat object at 0x2a9ae55d0>, dtype=object)"
      ]
     },
     "execution_count": 16,
     "metadata": {},
     "output_type": "execute_result"
    }
   ],
   "source": []
  }
 ],
 "metadata": {
  "kernelspec": {
   "display_name": ".venv",
   "language": "python",
   "name": "python3"
  },
  "language_info": {
   "codemirror_mode": {
    "name": "ipython",
    "version": 3
   },
   "file_extension": ".py",
   "mimetype": "text/x-python",
   "name": "python",
   "nbconvert_exporter": "python",
   "pygments_lexer": "ipython3",
   "version": "3.11.6"
  }
 },
 "nbformat": 4,
 "nbformat_minor": 2
}
