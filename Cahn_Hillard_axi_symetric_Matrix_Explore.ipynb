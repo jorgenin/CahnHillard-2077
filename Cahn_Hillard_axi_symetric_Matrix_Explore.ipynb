{
 "cells": [
  {
   "cell_type": "markdown",
   "metadata": {},
   "source": [
    "# Code for Cahn-Hilliard phase separation with mechanical coupling."
   ]
  },
  {
   "cell_type": "markdown",
   "metadata": {},
   "source": [
    "\n",
    "## 2D phase separation study.\n"
   ]
  },
  {
   "cell_type": "markdown",
   "metadata": {},
   "source": [
    "\n",
    "\n",
    "Degrees of freedom: \n",
    "  - scalar chemical potential: we use normalized  mu = mu/RT \n",
    "  - species concentration:  we use normalized  c= Omega*cmat \n",
    "  \n",
    "### Units:\n",
    "- Length: um\n",
    "- Mass: kg\n",
    "- Time: s\n",
    "- Amount of substance: pmol\n",
    "- Temperature: K\n",
    "- Mass density: kg/um^3\n",
    "- Force: uN\n",
    "- Stress: MPa\n",
    "- Energy: pJ\n",
    "- Species concentration: pmol/um^3\n",
    "- Chemical potential: pJ/pmol\n",
    "- Molar volume: um^3/pmol\n",
    "- Species diffusivity: um^2/s\n",
    "- Boltzmann Constant: 1.38E-11 pJ/K\n",
    "- Gas constant: 8.314  pJ/(pmol K)\n",
    "\n",
    "### By\n",
    "  Eric Stewart      and      Lallit Anand\n",
    "ericstew@mit.edu            anand@mit.edu\n",
    "\n",
    "October 2023\n",
    "\n",
    "Modified for FenicsX by Jorge Nin\n",
    "jorgenin@mit.edu"
   ]
  },
  {
   "cell_type": "code",
   "execution_count": 1,
   "metadata": {
    "ExecuteTime": {
     "end_time": "2023-11-03T01:00:17.648867Z",
     "start_time": "2023-11-03T01:00:16.197991Z"
    }
   },
   "outputs": [],
   "source": [
    "import numpy as np\n",
    "\n",
    "\n",
    "from mpi4py import MPI\n",
    "from petsc4py import PETSc\n",
    "\n",
    "from dolfinx import fem, mesh, io, plot, log, default_scalar_type\n",
    "from dolfinx.fem import Constant, dirichletbc, Function, FunctionSpace, Expression\n",
    "from dolfinx.fem.petsc import NonlinearProblem\n",
    "from dolfinx.nls.petsc import NewtonSolver\n",
    "from dolfinx.io import VTXWriter\n",
    "\n",
    "import ufl\n",
    "from ufl import (\n",
    "    TestFunction,\n",
    "    TrialFunction,\n",
    "    Identity,\n",
    "    grad,\n",
    "    det,\n",
    "    div,\n",
    "    dev,\n",
    "    inv,\n",
    "    tr,\n",
    "    sqrt,\n",
    "    conditional,\n",
    "    gt,\n",
    "    dx,\n",
    "    inner,\n",
    "    derivative,\n",
    "    dot,\n",
    "    ln,\n",
    "    split,\n",
    "    tanh,\n",
    "    as_tensor,\n",
    "    as_vector,\n",
    "    ge\n",
    ")\n",
    "\n",
    "from hilliard_models import Cahn_Hillard_axi_symmetric\n",
    "from datetime import datetime\n",
    "from dolfinx.plot import vtk_mesh\n",
    "\n",
    "import pyvista\n",
    "\n",
    "pyvista.set_jupyter_backend(\"client\")\n",
    "## Define temporal parameters\n",
    "import random\n",
    "import gmsh"
   ]
  },
  {
   "cell_type": "markdown",
   "metadata": {},
   "source": [
    "# DEFINE GEOMETRY"
   ]
  },
  {
   "cell_type": "code",
   "execution_count": 2,
   "metadata": {
    "ExecuteTime": {
     "end_time": "2023-11-03T01:00:29.772738Z",
     "start_time": "2023-11-03T01:00:29.762975Z"
    }
   },
   "outputs": [
    {
     "name": "stdout",
     "output_type": "stream",
     "text": [
      "Info    : Meshing 1D...\n",
      "Info    : [  0%] Meshing curve 1 (Ellipse)\n",
      "Info    : [ 40%] Meshing curve 2 (Line)\n",
      "Info    : [ 70%] Meshing curve 3 (Line)\n",
      "Info    : Done meshing 1D (Wall 0.00132625s, CPU 0.001479s)\n",
      "Info    : Meshing 2D...\n",
      "Info    : Meshing surface 1 (Plane, Frontal-Delaunay)\n",
      "Info    : Done meshing 2D (Wall 0.0228706s, CPU 0.022482s)\n",
      "Info    : 1460 nodes 2921 elements\n",
      "Info    : Writing 'mesh/oval.msh'...\n",
      "Info    : Done writing 'mesh/oval.msh'\n"
     ]
    }
   ],
   "source": [
    "problemName = \"Canh Hillard Mechanical Axi Symetric Oval\"\n",
    "a = .5 #Semi major axis\n",
    "b = .3 #Semi minor axis\n",
    "lc = .01\n",
    "points = [ [0,0],[0,a],[b,0]]\n",
    "mesh_comm = MPI.COMM_WORLD\n",
    "model_rank = 0\n",
    "\n",
    "\n",
    "    \n",
    "if mesh_comm.rank == model_rank:\n",
    "    \n",
    "    gmsh.initialize()\n",
    "    gmsh.model.add(\"oval\")\n",
    "    meshpoints = []\n",
    "    for point in points: \n",
    "        #print(point)\n",
    "        meshpoints.append( gmsh.model.geo.add_point(point[0],point[1],0,lc))\n",
    "    \n",
    "\n",
    "    l3 = gmsh.model.geo.add_ellipse_arc(meshpoints[1],meshpoints[0], meshpoints[1], meshpoints[2])\n",
    "    l1 = gmsh.model.geo.add_line(meshpoints[0], meshpoints[1])\n",
    "    l2 = gmsh.model.geo.add_line(meshpoints[2], meshpoints[0])\n",
    "    #l3 =gmsh.model.geo.add_line(meshpoints[2], meshpoints[0])\n",
    "    \n",
    "    loop = gmsh.model.geo.add_curve_loop([l1, l2, l3])\n",
    "    \n",
    "    surface = gmsh.model.geo.addPlaneSurface([1],1)\n",
    "    \n",
    "    \n",
    "    gdim =2\n",
    "    \n",
    "    gmsh.model.geo.synchronize()\n",
    "    \n",
    "    gmsh.model.addPhysicalGroup(2, [surface],name=\"My Surface\")\n",
    "    \n",
    "    BOTTOM_TAG, LEFT_TAG, OUTSIDE_TAG = 1, 2, 3\n",
    "    gmsh.model.addPhysicalGroup(1,[l2],BOTTOM_TAG,\"Bottom\")\n",
    "    gmsh.model.addPhysicalGroup(1,[l3],OUTSIDE_TAG,\"Outside\")\n",
    "    gmsh.model.addPhysicalGroup(1,[l1],LEFT_TAG,\"Left\")\n",
    "    \n",
    "    \n",
    "    gmsh.model.mesh.generate(2)\n",
    "    \n",
    "\n",
    "    \n",
    "    gmsh.write(\"mesh/oval.msh\")\n",
    "    gmsh.finalize()\n",
    "    \n",
    "    \n"
   ]
  },
  {
   "cell_type": "markdown",
   "metadata": {},
   "source": [
    "# Simulation Time Control"
   ]
  },
  {
   "cell_type": "code",
   "execution_count": 3,
   "metadata": {
    "ExecuteTime": {
     "end_time": "2023-11-01T18:16:10.619189Z",
     "start_time": "2023-11-01T18:16:10.576017Z"
    }
   },
   "outputs": [],
   "source": [
    "t = 0.0  # initialization of time\n",
    "Ttot = 1800  # total simulation time\n",
    "dt = 0.01  # Initial time step size, here we will use adaptive time-stepping"
   ]
  },
  {
   "cell_type": "markdown",
   "metadata": {},
   "source": [
    "# Create Problem"
   ]
  },
  {
   "cell_type": "code",
   "execution_count": 4,
   "metadata": {},
   "outputs": [
    {
     "name": "stdout",
     "output_type": "stream",
     "text": [
      "Info    : Reading 'mesh/oval.msh'...\n",
      "Info    : 7 entities\n",
      "Info    : 1460 nodes\n",
      "Info    : 2918 elements\n",
      "Info    : Done reading 'mesh/oval.msh'\n"
     ]
    }
   ],
   "source": [
    "from dolfinx.io.gmshio import read_from_msh\n",
    "domain, cell_tags, facet_tags = read_from_msh(\"mesh/oval.msh\", MPI.COMM_WORLD, 0,gdim=2)\n",
    "dk = Constant(domain,dt)\n",
    "\n",
    "cri = 0.005\n",
    "crf = 0.995\n",
    "def InitFunction(hillard_problem : Cahn_Hillard_axi_symmetric):\n",
    "\n",
    "    # Some quick definitions to init random values\n",
    "    V, _ = hillard_problem.ME.sub(1).collapse()\n",
    "    cBar_init = Function(V)\n",
    "\n",
    "    cBar_init.interpolate(\n",
    "        lambda x: np.full_like(x[1],cri)\n",
    "    ) \n",
    "\n",
    "    fc_rand =  (\n",
    "        ln(cBar_init / (1 - cBar_init)) + hillard_problem.chi * (1 - 2 * cBar_init)\n",
    "    )  # use that relation to initate the two different sub expressions\n",
    "\n",
    "    concentration = Expression(\n",
    "        hillard_problem.Omega*hillard_problem.cMax*cri,\n",
    "        hillard_problem.ME.sub(2).element.interpolation_points(),\n",
    "    )\n",
    "    hillard_problem.w.sub(2).interpolate(concentration)\n",
    "\n",
    "    chemical_potential = Expression(\n",
    "        fc_rand , hillard_problem.ME.sub(1).element.interpolation_points()\n",
    "    )\n",
    "    hillard_problem.w.sub(1).interpolate(chemical_potential)\n",
    "\n",
    "    hillard_problem.w.sub(0).interpolate(lambda x: np.zeros((2, x.shape[1])))\n",
    "\n",
    "    hillard_problem.w_old.x.array[:] = hillard_problem.w.x.array\n",
    "    hillard_problem.w_old_2.x.array[:] = hillard_problem.w.x.array\n",
    "\n",
    "hillard_problem = Cahn_Hillard_axi_symmetric(domain,init_func=InitFunction)\n",
    "hillard_problem.Kinematics()\n",
    "hillard_problem.WeakForms(dk)"
   ]
  },
  {
   "cell_type": "markdown",
   "metadata": {},
   "source": [
    "# Boundary Conditions"
   ]
  },
  {
   "cell_type": "code",
   "execution_count": 5,
   "metadata": {
    "ExecuteTime": {
     "end_time": "2023-11-01T18:16:10.802189Z",
     "start_time": "2023-11-01T18:16:10.767367Z"
    }
   },
   "outputs": [],
   "source": [
    "# Just fix the sides to make sure they don't move\n",
    "\n",
    "u_bc = np.array((0), dtype=default_scalar_type)\n",
    "\n",
    "\n",
    "\n",
    "\n",
    "left_dofs = fem.locate_dofs_topological(hillard_problem.ME.sub(0).sub(0), facet_tags.dim, facet_tags.find(LEFT_TAG)) #we don't want it to move in the x direction\n",
    "bottom_dofs = fem.locate_dofs_topological(hillard_problem.ME.sub(0).sub(1), facet_tags.dim, facet_tags.find(BOTTOM_TAG)) #we don't want it to move in the y direction\n",
    "bcs = [fem.dirichletbc(u_bc, left_dofs, hillard_problem.ME.sub(0).sub(0)),\n",
    "       fem.dirichletbc(u_bc, bottom_dofs, hillard_problem.ME.sub(0).sub(1))]\n"
   ]
  },
  {
   "cell_type": "code",
   "execution_count": 7,
   "metadata": {},
   "outputs": [],
   "source": [
    "from dolfinx.fem.petsc import assemble_matrix, create_matrix, create_vector\n",
    "import sys\n",
    "from slepc4py import SLEPc\n",
    "\n",
    "jacobian = fem.form(hillard_problem.a)\n",
    "Residual = fem.form(hillard_problem.Res)\n",
    "A = create_matrix(jacobian)\n",
    "L = create_vector(Residual)\n",
    "\n",
    "assemble_matrix(A, jacobian, bcs=bcs)\n",
    "A.assemble()\n",
    "B = A.copy()\n",
    "\n",
    "C = A.transposeMatMult(B)\n",
    "\n",
    "C.setOption(PETSc.Mat.Option.SYMMETRIC, True)\n",
    "\n",
    "C.assemble()\n",
    "eigenSolver = SLEPc.EPS()\n",
    "eigenSolver.create(comm=mesh_comm)\n",
    "\n",
    "eigenSolver.setOperators(C)\n",
    "eigenSolver.setProblemType(SLEPc.EPS.ProblemType.HEP)\n",
    "#eigenSolver.setType(eigenSolver.Type.SCALAPACK)\n",
    "eigenSolver.setWhichEigenpairs(eigenSolver.Which.SMALLEST_REAL)\n",
    "eigenSolver.setTolerances(1.0e-5, 1000)\n",
    "eigenSolver.setKrylovSchurRestart(0.6)\n",
    "eigenSolver.setFromOptions()\n",
    "eigenSolver.solve()\n",
    "\n",
    "eigen_max = eigenSolver.getEigenvalue(0)\n",
    "\n",
    "print(eigen_max)\n",
    "\n",
    "\n",
    "eigenSolver.setWhichEigenpairs(eigenSolver.Which.LARGEST_REAL)\n",
    "eigenSolver.solve()\n",
    "eigen_min = eigenSolver.getEigenvalue(0)\n",
    "print(eigen_min)\n"
   ]
  },
  {
   "cell_type": "code",
   "execution_count": null,
   "metadata": {},
   "outputs": [
    {
     "name": "stdout",
     "output_type": "stream",
     "text": [
      "Number of requested eigenvalues: 1\n"
     ]
    }
   ],
   "source": [
    "nev, ncv, mpd = eigenSolver.getDimensions()\n",
    "print(\"Number of requested eigenvalues: %i\" % nev)"
   ]
  },
  {
   "cell_type": "code",
   "execution_count": null,
   "metadata": {},
   "outputs": [],
   "source": [
    "eigenSolver.getConverged()\n",
    "arr = C[:,:]"
   ]
  },
  {
   "cell_type": "code",
   "execution_count": null,
   "metadata": {},
   "outputs": [],
   "source": [
    "import scipy\n",
    "\n",
    "scipy.linalg.eigvalsh(arr)"
   ]
  },
  {
   "cell_type": "code",
   "execution_count": null,
   "metadata": {},
   "outputs": [],
   "source": [
    "value = np.linalg.cond(arr)"
   ]
  }
 ],
 "metadata": {
  "kernelspec": {
   "display_name": ".venv",
   "language": "python",
   "name": "python3"
  },
  "language_info": {
   "codemirror_mode": {
    "name": "ipython",
    "version": 3
   },
   "file_extension": ".py",
   "mimetype": "text/x-python",
   "name": "python",
   "nbconvert_exporter": "python",
   "pygments_lexer": "ipython3",
   "version": "3.11.6"
  }
 },
 "nbformat": 4,
 "nbformat_minor": 2
}
